{
 "cells": [
  {
   "cell_type": "markdown",
   "metadata": {},
   "source": [
    "# **Breast Cancer Prediction**"
   ]
  },
  {
   "cell_type": "code",
   "metadata": {
    "ExecuteTime": {
     "end_time": "2025-06-11T09:10:59.427796Z",
     "start_time": "2025-06-11T09:10:59.166160Z"
    }
   },
   "source": [
    "# Installing relevant libraries\n",
    "import numpy as np\n",
    "import pandas as pd\n",
    "import matplotlib.pyplot as plt\n",
    "from sklearn.preprocessing import StandardScaler\n",
    "from sklearn.model_selection import train_test_split, cross_val_score\n",
    "from sklearn.metrics import accuracy_score, classification_report, confusion_matrix, ConfusionMatrixDisplay"
   ],
   "outputs": [],
   "execution_count": 1
  },
  {
   "cell_type": "code",
   "metadata": {
    "ExecuteTime": {
     "end_time": "2025-06-11T09:10:59.559959Z",
     "start_time": "2025-06-11T09:10:59.447429Z"
    }
   },
   "source": [
    "# Importing the dataset\n",
    "from sklearn import datasets"
   ],
   "outputs": [],
   "execution_count": 2
  },
  {
   "cell_type": "code",
   "metadata": {
    "ExecuteTime": {
     "end_time": "2025-06-11T09:10:59.622067Z",
     "start_time": "2025-06-11T09:10:59.584268Z"
    }
   },
   "source": [
    "# Load the breast cancer dataset\n",
    "data = datasets.load_breast_cancer()"
   ],
   "outputs": [],
   "execution_count": 3
  },
  {
   "cell_type": "code",
   "metadata": {
    "ExecuteTime": {
     "end_time": "2025-06-11T09:10:59.672437Z",
     "start_time": "2025-06-11T09:10:59.653705Z"
    }
   },
   "source": [
    "data"
   ],
   "outputs": [
    {
     "data": {
      "text/plain": [
       "{'data': array([[1.799e+01, 1.038e+01, 1.228e+02, ..., 2.654e-01, 4.601e-01,\n",
       "         1.189e-01],\n",
       "        [2.057e+01, 1.777e+01, 1.329e+02, ..., 1.860e-01, 2.750e-01,\n",
       "         8.902e-02],\n",
       "        [1.969e+01, 2.125e+01, 1.300e+02, ..., 2.430e-01, 3.613e-01,\n",
       "         8.758e-02],\n",
       "        ...,\n",
       "        [1.660e+01, 2.808e+01, 1.083e+02, ..., 1.418e-01, 2.218e-01,\n",
       "         7.820e-02],\n",
       "        [2.060e+01, 2.933e+01, 1.401e+02, ..., 2.650e-01, 4.087e-01,\n",
       "         1.240e-01],\n",
       "        [7.760e+00, 2.454e+01, 4.792e+01, ..., 0.000e+00, 2.871e-01,\n",
       "         7.039e-02]]),\n",
       " 'target': array([0, 0, 0, 0, 0, 0, 0, 0, 0, 0, 0, 0, 0, 0, 0, 0, 0, 0, 0, 1, 1, 1,\n",
       "        0, 0, 0, 0, 0, 0, 0, 0, 0, 0, 0, 0, 0, 0, 0, 1, 0, 0, 0, 0, 0, 0,\n",
       "        0, 0, 1, 0, 1, 1, 1, 1, 1, 0, 0, 1, 0, 0, 1, 1, 1, 1, 0, 1, 0, 0,\n",
       "        1, 1, 1, 1, 0, 1, 0, 0, 1, 0, 1, 0, 0, 1, 1, 1, 0, 0, 1, 0, 0, 0,\n",
       "        1, 1, 1, 0, 1, 1, 0, 0, 1, 1, 1, 0, 0, 1, 1, 1, 1, 0, 1, 1, 0, 1,\n",
       "        1, 1, 1, 1, 1, 1, 1, 0, 0, 0, 1, 0, 0, 1, 1, 1, 0, 0, 1, 0, 1, 0,\n",
       "        0, 1, 0, 0, 1, 1, 0, 1, 1, 0, 1, 1, 1, 1, 0, 1, 1, 1, 1, 1, 1, 1,\n",
       "        1, 1, 0, 1, 1, 1, 1, 0, 0, 1, 0, 1, 1, 0, 0, 1, 1, 0, 0, 1, 1, 1,\n",
       "        1, 0, 1, 1, 0, 0, 0, 1, 0, 1, 0, 1, 1, 1, 0, 1, 1, 0, 0, 1, 0, 0,\n",
       "        0, 0, 1, 0, 0, 0, 1, 0, 1, 0, 1, 1, 0, 1, 0, 0, 0, 0, 1, 1, 0, 0,\n",
       "        1, 1, 1, 0, 1, 1, 1, 1, 1, 0, 0, 1, 1, 0, 1, 1, 0, 0, 1, 0, 1, 1,\n",
       "        1, 1, 0, 1, 1, 1, 1, 1, 0, 1, 0, 0, 0, 0, 0, 0, 0, 0, 0, 0, 0, 0,\n",
       "        0, 0, 1, 1, 1, 1, 1, 1, 0, 1, 0, 1, 1, 0, 1, 1, 0, 1, 0, 0, 1, 1,\n",
       "        1, 1, 1, 1, 1, 1, 1, 1, 1, 1, 1, 0, 1, 1, 0, 1, 0, 1, 1, 1, 1, 1,\n",
       "        1, 1, 1, 1, 1, 1, 1, 1, 1, 0, 1, 1, 1, 0, 1, 0, 1, 1, 1, 1, 0, 0,\n",
       "        0, 1, 1, 1, 1, 0, 1, 0, 1, 0, 1, 1, 1, 0, 1, 1, 1, 1, 1, 1, 1, 0,\n",
       "        0, 0, 1, 1, 1, 1, 1, 1, 1, 1, 1, 1, 1, 0, 0, 1, 0, 0, 0, 1, 0, 0,\n",
       "        1, 1, 1, 1, 1, 0, 1, 1, 1, 1, 1, 0, 1, 1, 1, 0, 1, 1, 0, 0, 1, 1,\n",
       "        1, 1, 1, 1, 0, 1, 1, 1, 1, 1, 1, 1, 0, 1, 1, 1, 1, 1, 0, 1, 1, 0,\n",
       "        1, 1, 1, 1, 1, 1, 1, 1, 1, 1, 1, 1, 0, 1, 0, 0, 1, 0, 1, 1, 1, 1,\n",
       "        1, 0, 1, 1, 0, 1, 0, 1, 1, 0, 1, 0, 1, 1, 1, 1, 1, 1, 1, 1, 0, 0,\n",
       "        1, 1, 1, 1, 1, 1, 0, 1, 1, 1, 1, 1, 1, 1, 1, 1, 1, 0, 1, 1, 1, 1,\n",
       "        1, 1, 1, 0, 1, 0, 1, 1, 0, 1, 1, 1, 1, 1, 0, 0, 1, 0, 1, 0, 1, 1,\n",
       "        1, 1, 1, 0, 1, 1, 0, 1, 0, 1, 0, 0, 1, 1, 1, 0, 1, 1, 1, 1, 1, 1,\n",
       "        1, 1, 1, 1, 1, 0, 1, 0, 0, 1, 1, 1, 1, 1, 1, 1, 1, 1, 1, 1, 1, 1,\n",
       "        1, 1, 1, 1, 1, 1, 1, 1, 1, 1, 1, 1, 0, 0, 0, 0, 0, 0, 1]),\n",
       " 'frame': None,\n",
       " 'target_names': array(['malignant', 'benign'], dtype='<U9'),\n",
       " 'DESCR': '.. _breast_cancer_dataset:\\n\\nBreast cancer wisconsin (diagnostic) dataset\\n--------------------------------------------\\n\\n**Data Set Characteristics:**\\n\\n:Number of Instances: 569\\n\\n:Number of Attributes: 30 numeric, predictive attributes and the class\\n\\n:Attribute Information:\\n    - radius (mean of distances from center to points on the perimeter)\\n    - texture (standard deviation of gray-scale values)\\n    - perimeter\\n    - area\\n    - smoothness (local variation in radius lengths)\\n    - compactness (perimeter^2 / area - 1.0)\\n    - concavity (severity of concave portions of the contour)\\n    - concave points (number of concave portions of the contour)\\n    - symmetry\\n    - fractal dimension (\"coastline approximation\" - 1)\\n\\n    The mean, standard error, and \"worst\" or largest (mean of the three\\n    worst/largest values) of these features were computed for each image,\\n    resulting in 30 features.  For instance, field 0 is Mean Radius, field\\n    10 is Radius SE, field 20 is Worst Radius.\\n\\n    - class:\\n            - WDBC-Malignant\\n            - WDBC-Benign\\n\\n:Summary Statistics:\\n\\n===================================== ====== ======\\n                                        Min    Max\\n===================================== ====== ======\\nradius (mean):                        6.981  28.11\\ntexture (mean):                       9.71   39.28\\nperimeter (mean):                     43.79  188.5\\narea (mean):                          143.5  2501.0\\nsmoothness (mean):                    0.053  0.163\\ncompactness (mean):                   0.019  0.345\\nconcavity (mean):                     0.0    0.427\\nconcave points (mean):                0.0    0.201\\nsymmetry (mean):                      0.106  0.304\\nfractal dimension (mean):             0.05   0.097\\nradius (standard error):              0.112  2.873\\ntexture (standard error):             0.36   4.885\\nperimeter (standard error):           0.757  21.98\\narea (standard error):                6.802  542.2\\nsmoothness (standard error):          0.002  0.031\\ncompactness (standard error):         0.002  0.135\\nconcavity (standard error):           0.0    0.396\\nconcave points (standard error):      0.0    0.053\\nsymmetry (standard error):            0.008  0.079\\nfractal dimension (standard error):   0.001  0.03\\nradius (worst):                       7.93   36.04\\ntexture (worst):                      12.02  49.54\\nperimeter (worst):                    50.41  251.2\\narea (worst):                         185.2  4254.0\\nsmoothness (worst):                   0.071  0.223\\ncompactness (worst):                  0.027  1.058\\nconcavity (worst):                    0.0    1.252\\nconcave points (worst):               0.0    0.291\\nsymmetry (worst):                     0.156  0.664\\nfractal dimension (worst):            0.055  0.208\\n===================================== ====== ======\\n\\n:Missing Attribute Values: None\\n\\n:Class Distribution: 212 - Malignant, 357 - Benign\\n\\n:Creator:  Dr. William H. Wolberg, W. Nick Street, Olvi L. Mangasarian\\n\\n:Donor: Nick Street\\n\\n:Date: November, 1995\\n\\nThis is a copy of UCI ML Breast Cancer Wisconsin (Diagnostic) datasets.\\nhttps://goo.gl/U2Uwz2\\n\\nFeatures are computed from a digitized image of a fine needle\\naspirate (FNA) of a breast mass.  They describe\\ncharacteristics of the cell nuclei present in the image.\\n\\nSeparating plane described above was obtained using\\nMultisurface Method-Tree (MSM-T) [K. P. Bennett, \"Decision Tree\\nConstruction Via Linear Programming.\" Proceedings of the 4th\\nMidwest Artificial Intelligence and Cognitive Science Society,\\npp. 97-101, 1992], a classification method which uses linear\\nprogramming to construct a decision tree.  Relevant features\\nwere selected using an exhaustive search in the space of 1-4\\nfeatures and 1-3 separating planes.\\n\\nThe actual linear program used to obtain the separating plane\\nin the 3-dimensional space is that described in:\\n[K. P. Bennett and O. L. Mangasarian: \"Robust Linear\\nProgramming Discrimination of Two Linearly Inseparable Sets\",\\nOptimization Methods and Software 1, 1992, 23-34].\\n\\nThis database is also available through the UW CS ftp server:\\n\\nftp ftp.cs.wisc.edu\\ncd math-prog/cpo-dataset/machine-learn/WDBC/\\n\\n.. dropdown:: References\\n\\n  - W.N. Street, W.H. Wolberg and O.L. Mangasarian. Nuclear feature extraction\\n    for breast tumor diagnosis. IS&T/SPIE 1993 International Symposium on\\n    Electronic Imaging: Science and Technology, volume 1905, pages 861-870,\\n    San Jose, CA, 1993.\\n  - O.L. Mangasarian, W.N. Street and W.H. Wolberg. Breast cancer diagnosis and\\n    prognosis via linear programming. Operations Research, 43(4), pages 570-577,\\n    July-August 1995.\\n  - W.H. Wolberg, W.N. Street, and O.L. Mangasarian. Machine learning techniques\\n    to diagnose breast cancer from fine-needle aspirates. Cancer Letters 77 (1994)\\n    163-171.\\n',\n",
       " 'feature_names': array(['mean radius', 'mean texture', 'mean perimeter', 'mean area',\n",
       "        'mean smoothness', 'mean compactness', 'mean concavity',\n",
       "        'mean concave points', 'mean symmetry', 'mean fractal dimension',\n",
       "        'radius error', 'texture error', 'perimeter error', 'area error',\n",
       "        'smoothness error', 'compactness error', 'concavity error',\n",
       "        'concave points error', 'symmetry error',\n",
       "        'fractal dimension error', 'worst radius', 'worst texture',\n",
       "        'worst perimeter', 'worst area', 'worst smoothness',\n",
       "        'worst compactness', 'worst concavity', 'worst concave points',\n",
       "        'worst symmetry', 'worst fractal dimension'], dtype='<U23'),\n",
       " 'filename': 'breast_cancer.csv',\n",
       " 'data_module': 'sklearn.datasets.data'}"
      ]
     },
     "execution_count": 4,
     "metadata": {},
     "output_type": "execute_result"
    }
   ],
   "execution_count": 4
  },
  {
   "cell_type": "code",
   "metadata": {
    "ExecuteTime": {
     "end_time": "2025-06-11T09:10:59.749278Z",
     "start_time": "2025-06-11T09:10:59.742012Z"
    }
   },
   "source": [
    "X = data[\"data\"]"
   ],
   "outputs": [],
   "execution_count": 5
  },
  {
   "cell_type": "code",
   "metadata": {
    "ExecuteTime": {
     "end_time": "2025-06-11T09:10:59.816533Z",
     "start_time": "2025-06-11T09:10:59.804439Z"
    }
   },
   "source": [
    "X"
   ],
   "outputs": [
    {
     "data": {
      "text/plain": [
       "array([[1.799e+01, 1.038e+01, 1.228e+02, ..., 2.654e-01, 4.601e-01,\n",
       "        1.189e-01],\n",
       "       [2.057e+01, 1.777e+01, 1.329e+02, ..., 1.860e-01, 2.750e-01,\n",
       "        8.902e-02],\n",
       "       [1.969e+01, 2.125e+01, 1.300e+02, ..., 2.430e-01, 3.613e-01,\n",
       "        8.758e-02],\n",
       "       ...,\n",
       "       [1.660e+01, 2.808e+01, 1.083e+02, ..., 1.418e-01, 2.218e-01,\n",
       "        7.820e-02],\n",
       "       [2.060e+01, 2.933e+01, 1.401e+02, ..., 2.650e-01, 4.087e-01,\n",
       "        1.240e-01],\n",
       "       [7.760e+00, 2.454e+01, 4.792e+01, ..., 0.000e+00, 2.871e-01,\n",
       "        7.039e-02]])"
      ]
     },
     "execution_count": 6,
     "metadata": {},
     "output_type": "execute_result"
    }
   ],
   "execution_count": 6
  },
  {
   "metadata": {
    "ExecuteTime": {
     "end_time": "2025-06-11T09:10:59.907238Z",
     "start_time": "2025-06-11T09:10:59.892157Z"
    }
   },
   "cell_type": "code",
   "source": [
    "scaler = StandardScaler()\n",
    "X_scaled = scaler.fit_transform(X)\n",
    "X_scaled"
   ],
   "outputs": [
    {
     "data": {
      "text/plain": [
       "array([[ 1.09706398, -2.07333501,  1.26993369, ...,  2.29607613,\n",
       "         2.75062224,  1.93701461],\n",
       "       [ 1.82982061, -0.35363241,  1.68595471, ...,  1.0870843 ,\n",
       "        -0.24388967,  0.28118999],\n",
       "       [ 1.57988811,  0.45618695,  1.56650313, ...,  1.95500035,\n",
       "         1.152255  ,  0.20139121],\n",
       "       ...,\n",
       "       [ 0.70228425,  2.0455738 ,  0.67267578, ...,  0.41406869,\n",
       "        -1.10454895, -0.31840916],\n",
       "       [ 1.83834103,  2.33645719,  1.98252415, ...,  2.28998549,\n",
       "         1.91908301,  2.21963528],\n",
       "       [-1.80840125,  1.22179204, -1.81438851, ..., -1.74506282,\n",
       "        -0.04813821, -0.75120669]])"
      ]
     },
     "execution_count": 7,
     "metadata": {},
     "output_type": "execute_result"
    }
   ],
   "execution_count": 7
  },
  {
   "cell_type": "code",
   "metadata": {
    "ExecuteTime": {
     "end_time": "2025-06-11T09:11:00.137513Z",
     "start_time": "2025-06-11T09:11:00.127946Z"
    }
   },
   "source": "X_scaled.shape",
   "outputs": [
    {
     "data": {
      "text/plain": [
       "(569, 30)"
      ]
     },
     "execution_count": 8,
     "metadata": {},
     "output_type": "execute_result"
    }
   ],
   "execution_count": 8
  },
  {
   "cell_type": "code",
   "metadata": {
    "ExecuteTime": {
     "end_time": "2025-06-11T09:11:00.304936Z",
     "start_time": "2025-06-11T09:11:00.296572Z"
    }
   },
   "source": [
    "y = data[\"target\"]"
   ],
   "outputs": [],
   "execution_count": 9
  },
  {
   "cell_type": "code",
   "metadata": {
    "ExecuteTime": {
     "end_time": "2025-06-11T09:11:00.374230Z",
     "start_time": "2025-06-11T09:11:00.362490Z"
    }
   },
   "source": [
    "y"
   ],
   "outputs": [
    {
     "data": {
      "text/plain": [
       "array([0, 0, 0, 0, 0, 0, 0, 0, 0, 0, 0, 0, 0, 0, 0, 0, 0, 0, 0, 1, 1, 1,\n",
       "       0, 0, 0, 0, 0, 0, 0, 0, 0, 0, 0, 0, 0, 0, 0, 1, 0, 0, 0, 0, 0, 0,\n",
       "       0, 0, 1, 0, 1, 1, 1, 1, 1, 0, 0, 1, 0, 0, 1, 1, 1, 1, 0, 1, 0, 0,\n",
       "       1, 1, 1, 1, 0, 1, 0, 0, 1, 0, 1, 0, 0, 1, 1, 1, 0, 0, 1, 0, 0, 0,\n",
       "       1, 1, 1, 0, 1, 1, 0, 0, 1, 1, 1, 0, 0, 1, 1, 1, 1, 0, 1, 1, 0, 1,\n",
       "       1, 1, 1, 1, 1, 1, 1, 0, 0, 0, 1, 0, 0, 1, 1, 1, 0, 0, 1, 0, 1, 0,\n",
       "       0, 1, 0, 0, 1, 1, 0, 1, 1, 0, 1, 1, 1, 1, 0, 1, 1, 1, 1, 1, 1, 1,\n",
       "       1, 1, 0, 1, 1, 1, 1, 0, 0, 1, 0, 1, 1, 0, 0, 1, 1, 0, 0, 1, 1, 1,\n",
       "       1, 0, 1, 1, 0, 0, 0, 1, 0, 1, 0, 1, 1, 1, 0, 1, 1, 0, 0, 1, 0, 0,\n",
       "       0, 0, 1, 0, 0, 0, 1, 0, 1, 0, 1, 1, 0, 1, 0, 0, 0, 0, 1, 1, 0, 0,\n",
       "       1, 1, 1, 0, 1, 1, 1, 1, 1, 0, 0, 1, 1, 0, 1, 1, 0, 0, 1, 0, 1, 1,\n",
       "       1, 1, 0, 1, 1, 1, 1, 1, 0, 1, 0, 0, 0, 0, 0, 0, 0, 0, 0, 0, 0, 0,\n",
       "       0, 0, 1, 1, 1, 1, 1, 1, 0, 1, 0, 1, 1, 0, 1, 1, 0, 1, 0, 0, 1, 1,\n",
       "       1, 1, 1, 1, 1, 1, 1, 1, 1, 1, 1, 0, 1, 1, 0, 1, 0, 1, 1, 1, 1, 1,\n",
       "       1, 1, 1, 1, 1, 1, 1, 1, 1, 0, 1, 1, 1, 0, 1, 0, 1, 1, 1, 1, 0, 0,\n",
       "       0, 1, 1, 1, 1, 0, 1, 0, 1, 0, 1, 1, 1, 0, 1, 1, 1, 1, 1, 1, 1, 0,\n",
       "       0, 0, 1, 1, 1, 1, 1, 1, 1, 1, 1, 1, 1, 0, 0, 1, 0, 0, 0, 1, 0, 0,\n",
       "       1, 1, 1, 1, 1, 0, 1, 1, 1, 1, 1, 0, 1, 1, 1, 0, 1, 1, 0, 0, 1, 1,\n",
       "       1, 1, 1, 1, 0, 1, 1, 1, 1, 1, 1, 1, 0, 1, 1, 1, 1, 1, 0, 1, 1, 0,\n",
       "       1, 1, 1, 1, 1, 1, 1, 1, 1, 1, 1, 1, 0, 1, 0, 0, 1, 0, 1, 1, 1, 1,\n",
       "       1, 0, 1, 1, 0, 1, 0, 1, 1, 0, 1, 0, 1, 1, 1, 1, 1, 1, 1, 1, 0, 0,\n",
       "       1, 1, 1, 1, 1, 1, 0, 1, 1, 1, 1, 1, 1, 1, 1, 1, 1, 0, 1, 1, 1, 1,\n",
       "       1, 1, 1, 0, 1, 0, 1, 1, 0, 1, 1, 1, 1, 1, 0, 0, 1, 0, 1, 0, 1, 1,\n",
       "       1, 1, 1, 0, 1, 1, 0, 1, 0, 1, 0, 0, 1, 1, 1, 0, 1, 1, 1, 1, 1, 1,\n",
       "       1, 1, 1, 1, 1, 0, 1, 0, 0, 1, 1, 1, 1, 1, 1, 1, 1, 1, 1, 1, 1, 1,\n",
       "       1, 1, 1, 1, 1, 1, 1, 1, 1, 1, 1, 1, 0, 0, 0, 0, 0, 0, 1])"
      ]
     },
     "execution_count": 10,
     "metadata": {},
     "output_type": "execute_result"
    }
   ],
   "execution_count": 10
  },
  {
   "cell_type": "code",
   "metadata": {
    "ExecuteTime": {
     "end_time": "2025-06-11T09:11:00.549197Z",
     "start_time": "2025-06-11T09:11:00.539337Z"
    }
   },
   "source": [
    "y.shape"
   ],
   "outputs": [
    {
     "data": {
      "text/plain": [
       "(569,)"
      ]
     },
     "execution_count": 11,
     "metadata": {},
     "output_type": "execute_result"
    }
   ],
   "execution_count": 11
  },
  {
   "cell_type": "code",
   "metadata": {
    "ExecuteTime": {
     "end_time": "2025-06-11T09:11:00.648781Z",
     "start_time": "2025-06-11T09:11:00.637749Z"
    }
   },
   "source": [
    "# Split the dataset into training and testing\n",
    "X_train, X_test, y_train, y_test = train_test_split(X_scaled, y, test_size = 0.3, random_state = 42)"
   ],
   "outputs": [],
   "execution_count": 12
  },
  {
   "cell_type": "code",
   "metadata": {
    "ExecuteTime": {
     "end_time": "2025-06-11T09:11:00.722440Z",
     "start_time": "2025-06-11T09:11:00.709329Z"
    }
   },
   "source": [
    "# Initialize a dictionary to store the accuracy scores\n",
    "results = {}"
   ],
   "outputs": [],
   "execution_count": 13
  },
  {
   "cell_type": "code",
   "metadata": {
    "ExecuteTime": {
     "end_time": "2025-06-11T09:11:01.200643Z",
     "start_time": "2025-06-11T09:11:00.772438Z"
    }
   },
   "source": [
    "# Logistic Regression\n",
    "from sklearn.linear_model import LogisticRegression\n",
    "\n",
    "def train_logistic_regression(X_train, y_train, X_test, cv = 5):\n",
    "    # Initialize model\n",
    "    lr_model = LogisticRegression(max_iter = 10000, random_state = 2)\n",
    "\n",
    "    # Fit the model\n",
    "    lr_model = lr_model.fit(X_train, y_train)\n",
    "\n",
    "    # Training Score\n",
    "    train_score = lr_model.score(X_train, y_train)\n",
    "\n",
    "    # Cross-Validation score (mean)\n",
    "    cv_scores = cross_val_score(lr_model, X_train, y_train, cv = cv).mean()\n",
    "    \n",
    "    # Make predictions on test set\n",
    "    predictions = lr_model.predict(X_test)\n",
    "    return train_score, predictions, cv_scores\n",
    "\n"
   ],
   "outputs": [],
   "execution_count": 14
  },
  {
   "metadata": {
    "ExecuteTime": {
     "end_time": "2025-06-11T09:11:02.474879Z",
     "start_time": "2025-06-11T09:11:01.215179Z"
    }
   },
   "cell_type": "code",
   "source": "lr_train, preds, lr_cv_scores = train_logistic_regression(X_train, y_train, X_test)",
   "outputs": [],
   "execution_count": 15
  },
  {
   "metadata": {
    "ExecuteTime": {
     "end_time": "2025-06-11T09:11:02.501862Z",
     "start_time": "2025-06-11T09:11:02.492892Z"
    }
   },
   "cell_type": "code",
   "source": "results[\"Logistic Regression\"] = accuracy_score(y_test, preds)",
   "outputs": [],
   "execution_count": 16
  },
  {
   "metadata": {
    "ExecuteTime": {
     "end_time": "2025-06-11T09:11:02.545208Z",
     "start_time": "2025-06-11T09:11:02.534397Z"
    }
   },
   "cell_type": "code",
   "source": "lr_test = accuracy_score(y_test, preds)",
   "outputs": [],
   "execution_count": 17
  },
  {
   "cell_type": "code",
   "metadata": {
    "ExecuteTime": {
     "end_time": "2025-06-11T09:11:02.606401Z",
     "start_time": "2025-06-11T09:11:02.574222Z"
    }
   },
   "source": "print(classification_report(y_test, preds))",
   "outputs": [
    {
     "name": "stdout",
     "output_type": "stream",
     "text": [
      "              precision    recall  f1-score   support\n",
      "\n",
      "           0       0.97      0.98      0.98        63\n",
      "           1       0.99      0.98      0.99       108\n",
      "\n",
      "    accuracy                           0.98       171\n",
      "   macro avg       0.98      0.98      0.98       171\n",
      "weighted avg       0.98      0.98      0.98       171\n",
      "\n"
     ]
    }
   ],
   "execution_count": 18
  },
  {
   "cell_type": "code",
   "metadata": {
    "ExecuteTime": {
     "end_time": "2025-06-11T09:11:02.699073Z",
     "start_time": "2025-06-11T09:11:02.687859Z"
    }
   },
   "source": "print(confusion_matrix(y_test, preds))",
   "outputs": [
    {
     "name": "stdout",
     "output_type": "stream",
     "text": [
      "[[ 62   1]\n",
      " [  2 106]]\n"
     ]
    }
   ],
   "execution_count": 19
  },
  {
   "cell_type": "code",
   "metadata": {
    "ExecuteTime": {
     "end_time": "2025-06-11T09:11:03.598269Z",
     "start_time": "2025-06-11T09:11:02.871169Z"
    }
   },
   "source": [
    "ConfusionMatrixDisplay(confusion_matrix(y_test, preds), display_labels = data.target_names).plot()\n",
    "plt.xlabel(\"Predicted Values\")\n",
    "plt.ylabel(\"Actual Values\")\n",
    "plt.title(\"Confusion Matrix\")\n",
    "plt.show()"
   ],
   "outputs": [
    {
     "data": {
      "text/plain": [
       "<Figure size 640x480 with 2 Axes>"
      ],
      "image/png": "[encoded data removed]"
     },
     "metadata": {},
     "output_type": "display_data"
    }
   ],
   "execution_count": 20
  },
  {
   "metadata": {
    "ExecuteTime": {
     "end_time": "2025-06-11T09:11:03.630126Z",
     "start_time": "2025-06-11T09:11:03.620806Z"
    }
   },
   "cell_type": "code",
   "source": "print(f\"Logistic Regression | Training score: {lr_train * 100:.2f}% | Test score: {lr_test * 100:.2f} | CV scores: {lr_cv_scores * 100:.2f}%\")",
   "outputs": [
    {
     "name": "stdout",
     "output_type": "stream",
     "text": [
      "Logistic Regression | Training score: 98.74% | Test score: 98.25 | CV scores: 97.48%\n"
     ]
    }
   ],
   "execution_count": 21
  },
  {
   "cell_type": "code",
   "metadata": {
    "ExecuteTime": {
     "end_time": "2025-06-11T09:11:03.982985Z",
     "start_time": "2025-06-11T09:11:03.759692Z"
    }
   },
   "source": [
    "# Decision Tree\n",
    "from sklearn.tree import DecisionTreeClassifier\n",
    "\n",
    "def train_decision_tree(X_train, y_train, X_test, cv = 5):\n",
    "    # Initialize model\n",
    "    dt_model = DecisionTreeClassifier(max_depth = 5, random_state = 2,max_leaf_nodes = 5, max_features = 5)\n",
    "\n",
    "    # Fit the model\n",
    "    dt_model = dt_model.fit(X_train, y_train)\n",
    "\n",
    "    # Training score\n",
    "    train_score = dt_model.score(X_train, y_train)\n",
    "\n",
    "    # Cross-Validation score (mean)\n",
    "    cv_scores = cross_val_score(dt_model, X_train, y_train, cv = cv).mean()\n",
    "    \n",
    "    # Make predictions on test set\n",
    "    predictions = dt_model.predict(X_test)\n",
    "    return train_score, predictions, cv_scores"
   ],
   "outputs": [],
   "execution_count": 22
  },
  {
   "metadata": {
    "ExecuteTime": {
     "end_time": "2025-06-11T09:11:04.060195Z",
     "start_time": "2025-06-11T09:11:04.002010Z"
    }
   },
   "cell_type": "code",
   "source": "dt_train, preds, dt_cv_scores = train_decision_tree(X_train, y_train, X_test)",
   "outputs": [],
   "execution_count": 23
  },
  {
   "cell_type": "code",
   "metadata": {
    "ExecuteTime": {
     "end_time": "2025-06-11T09:11:04.091128Z",
     "start_time": "2025-06-11T09:11:04.081211Z"
    }
   },
   "source": "results[\"Decision Tree\"] = accuracy_score(y_test, preds)",
   "outputs": [],
   "execution_count": 24
  },
  {
   "metadata": {
    "ExecuteTime": {
     "end_time": "2025-06-11T09:11:04.183345Z",
     "start_time": "2025-06-11T09:11:04.124703Z"
    }
   },
   "cell_type": "code",
   "source": "dt_test = accuracy_score(y_test, preds)",
   "outputs": [],
   "execution_count": 25
  },
  {
   "cell_type": "code",
   "metadata": {
    "ExecuteTime": {
     "end_time": "2025-06-11T09:11:04.239105Z",
     "start_time": "2025-06-11T09:11:04.209373Z"
    }
   },
   "source": "print(classification_report(y_test, preds))",
   "outputs": [
    {
     "name": "stdout",
     "output_type": "stream",
     "text": [
      "              precision    recall  f1-score   support\n",
      "\n",
      "           0       0.91      0.95      0.93        63\n",
      "           1       0.97      0.94      0.96       108\n",
      "\n",
      "    accuracy                           0.95       171\n",
      "   macro avg       0.94      0.95      0.94       171\n",
      "weighted avg       0.95      0.95      0.95       171\n",
      "\n"
     ]
    }
   ],
   "execution_count": 26
  },
  {
   "cell_type": "code",
   "metadata": {
    "ExecuteTime": {
     "end_time": "2025-06-11T09:11:04.329881Z",
     "start_time": "2025-06-11T09:11:04.317697Z"
    }
   },
   "source": "print(confusion_matrix(y_test, preds))",
   "outputs": [
    {
     "name": "stdout",
     "output_type": "stream",
     "text": [
      "[[ 60   3]\n",
      " [  6 102]]\n"
     ]
    }
   ],
   "execution_count": 27
  },
  {
   "cell_type": "code",
   "metadata": {
    "ExecuteTime": {
     "end_time": "2025-06-11T09:11:05.106509Z",
     "start_time": "2025-06-11T09:11:04.534997Z"
    }
   },
   "source": [
    "ConfusionMatrixDisplay(confusion_matrix(y_test, preds), display_labels = data.target_names).plot()\n",
    "plt.xlabel(\"Predicted Values\")\n",
    "plt.ylabel(\"Actual Values\")\n",
    "plt.title(\"Confusion Matrix\")\n",
    "plt.show()"
   ],
   "outputs": [
    {
     "data": {
      "text/plain": [
       "<Figure size 640x480 with 2 Axes>"
      ],
      "image/png": "[encoded data removed]"
     },
     "metadata": {},
     "output_type": "display_data"
    }
   ],
   "execution_count": 28
  },
  {
   "metadata": {
    "ExecuteTime": {
     "end_time": "2025-06-11T09:11:05.136452Z",
     "start_time": "2025-06-11T09:11:05.129056Z"
    }
   },
   "cell_type": "code",
   "source": "print(f\"Decision Tree | Train Accuracy: {dt_train * 100:.2f}% | Test Accuracy: {dt_test * 100:.2f}% | CV scores: {dt_cv_scores * 100:.2f}%\")",
   "outputs": [
    {
     "name": "stdout",
     "output_type": "stream",
     "text": [
      "Decision Tree | Train Accuracy: 96.48% | Test Accuracy: 94.74% | CV scores: 92.96%\n"
     ]
    }
   ],
   "execution_count": 29
  },
  {
   "cell_type": "code",
   "metadata": {
    "ExecuteTime": {
     "end_time": "2025-06-11T09:11:05.600123Z",
     "start_time": "2025-06-11T09:11:05.226017Z"
    }
   },
   "source": [
    "# Random Forest\n",
    "from sklearn.ensemble import RandomForestClassifier\n",
    "\n",
    "def train_random_forest(X_train, y_train, X_test, cv = 5):\n",
    "    # Initialize model\n",
    "    rf_model = RandomForestClassifier(n_estimators = 1000)\n",
    "\n",
    "    # Fit the model\n",
    "    rf_model = rf_model.fit(X_train, y_train)\n",
    "\n",
    "    # Training score\n",
    "    train_score = rf_model.score(X_train, y_train)\n",
    "\n",
    "    # Cross-Validation score (mean)\n",
    "    cv_scores = cross_val_score(rf_model, X_train, y_train, cv = cv).mean()\n",
    "\n",
    "    # make predictions\n",
    "    predictions = rf_model.predict(X_test)\n",
    "    return train_score, predictions, cv_scores"
   ],
   "outputs": [],
   "execution_count": 30
  },
  {
   "metadata": {
    "ExecuteTime": {
     "end_time": "2025-06-11T09:11:23.222806Z",
     "start_time": "2025-06-11T09:11:05.616657Z"
    }
   },
   "cell_type": "code",
   "source": "rf_train, preds, rf_cv_scores = train_random_forest(X_train, y_train, X_test)",
   "outputs": [],
   "execution_count": 31
  },
  {
   "cell_type": "code",
   "metadata": {
    "ExecuteTime": {
     "end_time": "2025-06-11T09:11:23.251573Z",
     "start_time": "2025-06-11T09:11:23.245844Z"
    }
   },
   "source": "results[\"Random Forest\"] = accuracy_score(y_test, preds)",
   "outputs": [],
   "execution_count": 32
  },
  {
   "metadata": {
    "ExecuteTime": {
     "end_time": "2025-06-11T09:11:23.301442Z",
     "start_time": "2025-06-11T09:11:23.292925Z"
    }
   },
   "cell_type": "code",
   "source": "rf_test = accuracy_score(y_test, preds)",
   "outputs": [],
   "execution_count": 33
  },
  {
   "cell_type": "code",
   "metadata": {
    "ExecuteTime": {
     "end_time": "2025-06-11T09:11:23.362399Z",
     "start_time": "2025-06-11T09:11:23.340753Z"
    }
   },
   "source": "print(classification_report(y_test, preds))",
   "outputs": [
    {
     "name": "stdout",
     "output_type": "stream",
     "text": [
      "              precision    recall  f1-score   support\n",
      "\n",
      "           0       0.97      0.94      0.95        63\n",
      "           1       0.96      0.98      0.97       108\n",
      "\n",
      "    accuracy                           0.96       171\n",
      "   macro avg       0.97      0.96      0.96       171\n",
      "weighted avg       0.96      0.96      0.96       171\n",
      "\n"
     ]
    }
   ],
   "execution_count": 34
  },
  {
   "cell_type": "code",
   "metadata": {
    "ExecuteTime": {
     "end_time": "2025-06-11T09:11:23.447649Z",
     "start_time": "2025-06-11T09:11:23.439551Z"
    }
   },
   "source": "print(confusion_matrix(y_test, preds))",
   "outputs": [
    {
     "name": "stdout",
     "output_type": "stream",
     "text": [
      "[[ 59   4]\n",
      " [  2 106]]\n"
     ]
    }
   ],
   "execution_count": 35
  },
  {
   "cell_type": "code",
   "metadata": {
    "ExecuteTime": {
     "end_time": "2025-06-11T09:11:23.798278Z",
     "start_time": "2025-06-11T09:11:23.564575Z"
    }
   },
   "source": [
    "ConfusionMatrixDisplay(confusion_matrix(y_test, preds), display_labels = data.target_names).plot()\n",
    "plt.xlabel(\"Predicted Values\")\n",
    "plt.ylabel(\"Actual Values\")\n",
    "plt.title(\"Confusion Matrix\")\n",
    "plt.show()"
   ],
   "outputs": [
    {
     "data": {
      "text/plain": [
       "<Figure size 640x480 with 2 Axes>"
      ],
      "image/png": "[encoded data removed]"
     },
     "metadata": {},
     "output_type": "display_data"
    }
   ],
   "execution_count": 36
  },
  {
   "metadata": {
    "ExecuteTime": {
     "end_time": "2025-06-11T09:11:23.832651Z",
     "start_time": "2025-06-11T09:11:23.818852Z"
    }
   },
   "cell_type": "code",
   "source": "print(f\"Randon Forest | Train Accuracy: {rf_train * 100:.2f}% | Test Accuracy: {rf_test * 100:.2f}% | CV scores: {rf_cv_scores * 100:.2f}%\")",
   "outputs": [
    {
     "name": "stdout",
     "output_type": "stream",
     "text": [
      "Randon Forest | Train Accuracy: 100.00% | Test Accuracy: 96.49% | CV scores: 95.47%\n"
     ]
    }
   ],
   "execution_count": 37
  },
  {
   "metadata": {},
   "cell_type": "markdown",
   "source": "- K-Nearest Neighbors"
  },
  {
   "cell_type": "code",
   "metadata": {
    "ExecuteTime": {
     "end_time": "2025-06-11T09:11:23.884378Z",
     "start_time": "2025-06-11T09:11:23.866436Z"
    }
   },
   "source": [
    "# KNN\n",
    "from sklearn.neighbors import KNeighborsClassifier\n",
    "\n",
    "def train_knn(X_train, y_train, X_test, cv = 5):\n",
    "    # Initialize model\n",
    "    knn_model = KNeighborsClassifier(n_neighbors = 5)\n",
    "\n",
    "    # Fit the model\n",
    "    knn_model = knn_model.fit(X_train, y_train)\n",
    "\n",
    "    # Training score\n",
    "    train_score = knn_model.score(X_train, y_train)\n",
    "\n",
    "    # Cross-Validation score (mean)\n",
    "    cv_scores = cross_val_score(knn_model, X_train, y_train, cv = cv).mean()\n",
    "    \n",
    "    # Make predictions on test set\n",
    "    predictions = knn_model.predict(X_test)\n",
    "    return train_score, predictions, cv_scores"
   ],
   "outputs": [],
   "execution_count": 38
  },
  {
   "metadata": {
    "ExecuteTime": {
     "end_time": "2025-06-11T09:11:24.270541Z",
     "start_time": "2025-06-11T09:11:23.913559Z"
    }
   },
   "cell_type": "code",
   "source": "knn_train, preds, knn_cv_scores = train_knn(X_train, y_train, X_test)",
   "outputs": [],
   "execution_count": 39
  },
  {
   "cell_type": "code",
   "metadata": {
    "ExecuteTime": {
     "end_time": "2025-06-11T09:11:24.288065Z",
     "start_time": "2025-06-11T09:11:24.275547Z"
    }
   },
   "source": "results[\"K Nearest Neighbours\"] = accuracy_score(y_test, preds)",
   "outputs": [],
   "execution_count": 40
  },
  {
   "metadata": {
    "ExecuteTime": {
     "end_time": "2025-06-11T09:11:24.306003Z",
     "start_time": "2025-06-11T09:11:24.292252Z"
    }
   },
   "cell_type": "code",
   "source": "knn_test = accuracy_score(y_test, preds)",
   "outputs": [],
   "execution_count": 41
  },
  {
   "cell_type": "code",
   "metadata": {
    "ExecuteTime": {
     "end_time": "2025-06-11T09:11:24.349317Z",
     "start_time": "2025-06-11T09:11:24.308012Z"
    }
   },
   "source": "print(classification_report(y_test, preds))",
   "outputs": [
    {
     "name": "stdout",
     "output_type": "stream",
     "text": [
      "              precision    recall  f1-score   support\n",
      "\n",
      "           0       0.95      0.94      0.94        63\n",
      "           1       0.96      0.97      0.97       108\n",
      "\n",
      "    accuracy                           0.96       171\n",
      "   macro avg       0.96      0.95      0.96       171\n",
      "weighted avg       0.96      0.96      0.96       171\n",
      "\n"
     ]
    }
   ],
   "execution_count": 42
  },
  {
   "cell_type": "code",
   "metadata": {
    "ExecuteTime": {
     "end_time": "2025-06-11T09:11:24.389083Z",
     "start_time": "2025-06-11T09:11:24.371009Z"
    }
   },
   "source": "print(confusion_matrix(y_test, preds))",
   "outputs": [
    {
     "name": "stdout",
     "output_type": "stream",
     "text": [
      "[[ 59   4]\n",
      " [  3 105]]\n"
     ]
    }
   ],
   "execution_count": 43
  },
  {
   "cell_type": "code",
   "metadata": {
    "ExecuteTime": {
     "end_time": "2025-06-11T09:11:24.664800Z",
     "start_time": "2025-06-11T09:11:24.433858Z"
    }
   },
   "source": [
    "ConfusionMatrixDisplay(confusion_matrix(y_test, preds), display_labels = data.target_names).plot()\n",
    "plt.xlabel(\"Predicted Values\")\n",
    "plt.ylabel(\"Actual Values\")\n",
    "plt.title(\"Confusion Matrix\")\n",
    "plt.show()"
   ],
   "outputs": [
    {
     "data": {
      "text/plain": [
       "<Figure size 640x480 with 2 Axes>"
      ],
      "image/png": "[encoded data removed]"
     },
     "metadata": {},
     "output_type": "display_data"
    }
   ],
   "execution_count": 44
  },
  {
   "metadata": {
    "ExecuteTime": {
     "end_time": "2025-06-11T09:11:24.700567Z",
     "start_time": "2025-06-11T09:11:24.682451Z"
    }
   },
   "cell_type": "code",
   "source": "print(f\"K-Nearest Neighbors | Train Accuracy: {knn_train * 100:.2f}% | Test Accuracy: {knn_test * 100:.2f}% | CV scores: {knn_cv_scores * 100:.2f}%\")",
   "outputs": [
    {
     "name": "stdout",
     "output_type": "stream",
     "text": [
      "K-Nearest Neighbors | Train Accuracy: 97.74% | Test Accuracy: 95.91% | CV scores: 95.47%\n"
     ]
    }
   ],
   "execution_count": 45
  },
  {
   "metadata": {},
   "cell_type": "markdown",
   "source": "- Support Vector Machines"
  },
  {
   "metadata": {
    "ExecuteTime": {
     "end_time": "2025-06-11T09:11:24.768548Z",
     "start_time": "2025-06-11T09:11:24.761529Z"
    }
   },
   "cell_type": "code",
   "source": [
    "# SVM\n",
    "from sklearn.svm import SVC\n",
    "\n",
    "def train_svm(X_train, y_train, X_test, cv = 5):\n",
    "    # Initialize model\n",
    "    svm_model = SVC()\n",
    "\n",
    "    # Fit model\n",
    "    svm_model.fit(X_train, y_train)\n",
    "\n",
    "    # Training score\n",
    "    train_score = svm_model.score(X_train, y_train)\n",
    "\n",
    "    # Cross-validation score (mean)\n",
    "    cv_scores = cross_val_score(svm_model, X_train, y_train, cv = cv).mean()\n",
    "\n",
    "    # Make predictions on test set\n",
    "    predictions = svm_model.predict(X_test)\n",
    "\n",
    "    return train_score, predictions, cv_scores"
   ],
   "outputs": [],
   "execution_count": 46
  },
  {
   "metadata": {
    "ExecuteTime": {
     "end_time": "2025-06-11T09:11:24.848477Z",
     "start_time": "2025-06-11T09:11:24.793216Z"
    }
   },
   "cell_type": "code",
   "source": "svm_train, preds, svm_cv_scores = train_svm(X_train, y_train, X_test)",
   "outputs": [],
   "execution_count": 47
  },
  {
   "metadata": {
    "ExecuteTime": {
     "end_time": "2025-06-11T09:11:24.867776Z",
     "start_time": "2025-06-11T09:11:24.856027Z"
    }
   },
   "cell_type": "code",
   "source": "results[\"Support Vector Machine\"] = accuracy_score(y_test, preds)",
   "outputs": [],
   "execution_count": 48
  },
  {
   "metadata": {
    "ExecuteTime": {
     "end_time": "2025-06-11T09:11:24.892056Z",
     "start_time": "2025-06-11T09:11:24.871781Z"
    }
   },
   "cell_type": "code",
   "source": "svm_test = accuracy_score(y_test, preds)",
   "outputs": [],
   "execution_count": 49
  },
  {
   "metadata": {
    "ExecuteTime": {
     "end_time": "2025-06-11T09:11:24.941246Z",
     "start_time": "2025-06-11T09:11:24.918694Z"
    }
   },
   "cell_type": "code",
   "source": "print(classification_report(y_test, preds))",
   "outputs": [
    {
     "name": "stdout",
     "output_type": "stream",
     "text": [
      "              precision    recall  f1-score   support\n",
      "\n",
      "           0       0.95      0.97      0.96        63\n",
      "           1       0.98      0.97      0.98       108\n",
      "\n",
      "    accuracy                           0.97       171\n",
      "   macro avg       0.97      0.97      0.97       171\n",
      "weighted avg       0.97      0.97      0.97       171\n",
      "\n"
     ]
    }
   ],
   "execution_count": 50
  },
  {
   "metadata": {
    "ExecuteTime": {
     "end_time": "2025-06-11T09:11:24.977082Z",
     "start_time": "2025-06-11T09:11:24.965906Z"
    }
   },
   "cell_type": "code",
   "source": "print(confusion_matrix(y_test, preds))",
   "outputs": [
    {
     "name": "stdout",
     "output_type": "stream",
     "text": [
      "[[ 61   2]\n",
      " [  3 105]]\n"
     ]
    }
   ],
   "execution_count": 51
  },
  {
   "metadata": {
    "ExecuteTime": {
     "end_time": "2025-06-11T09:11:25.237424Z",
     "start_time": "2025-06-11T09:11:25.042158Z"
    }
   },
   "cell_type": "code",
   "source": [
    "ConfusionMatrixDisplay(confusion_matrix(y_test, preds), display_labels = data.target_names).plot()\n",
    "plt.xlabel(\"Predicted Values\")\n",
    "plt.ylabel(\"Actual Values\")\n",
    "plt.title(\"Confusion Matrix\")\n",
    "plt.show()"
   ],
   "outputs": [
    {
     "data": {
      "text/plain": [
       "<Figure size 640x480 with 2 Axes>"
      ],
      "image/png": "[encoded data removed]"
     },
     "metadata": {},
     "output_type": "display_data"
    }
   ],
   "execution_count": 52
  },
  {
   "metadata": {
    "ExecuteTime": {
     "end_time": "2025-06-11T09:11:25.264346Z",
     "start_time": "2025-06-11T09:11:25.242472Z"
    }
   },
   "cell_type": "code",
   "source": "print(f\"Support Vector Machines | Train Accuracy: {svm_train * 100:.2f}% |Test Accuracy: {svm_test * 100:.2f}% | CV scores: {svm_cv_scores * 100:.2f}%\")",
   "outputs": [
    {
     "name": "stdout",
     "output_type": "stream",
     "text": [
      "Support Vector Machines | Train Accuracy: 98.74% |Test Accuracy: 97.08% | CV scores: 96.73%\n"
     ]
    }
   ],
   "execution_count": 53
  },
  {
   "metadata": {},
   "cell_type": "markdown",
   "source": "- Naive Bayes"
  },
  {
   "metadata": {
    "ExecuteTime": {
     "end_time": "2025-06-11T09:11:25.330922Z",
     "start_time": "2025-06-11T09:11:25.305227Z"
    }
   },
   "cell_type": "code",
   "source": [
    "# Naive Bayes\n",
    "from sklearn.naive_bayes import GaussianNB\n",
    "\n",
    "def train_naive_bayes(X_train, y_train, X_test, cv = 5):\n",
    "    # Initialize model\n",
    "    nb_model = GaussianNB()\n",
    "\n",
    "    # Fit model\n",
    "    nb_model.fit(X_train, y_train)\n",
    "\n",
    "    # Training score\n",
    "    train_score = nb_model.score(X_train, y_train)\n",
    "\n",
    "    # Cross-Validation score (mean)\n",
    "    cv_scores = cross_val_score(nb_model, X_train, y_train, cv = cv).mean()\n",
    "\n",
    "    # Make predictions on test set\n",
    "    predictions = nb_model.predict(X_test)\n",
    "\n",
    "    return train_score, predictions, cv_scores"
   ],
   "outputs": [],
   "execution_count": 54
  },
  {
   "metadata": {
    "ExecuteTime": {
     "end_time": "2025-06-11T09:11:25.372188Z",
     "start_time": "2025-06-11T09:11:25.342467Z"
    }
   },
   "cell_type": "code",
   "source": "nb_train, preds, nb_cv_scores = train_naive_bayes(X_train, y_train, X_test)",
   "outputs": [],
   "execution_count": 55
  },
  {
   "metadata": {
    "ExecuteTime": {
     "end_time": "2025-06-11T09:11:25.388481Z",
     "start_time": "2025-06-11T09:11:25.372188Z"
    }
   },
   "cell_type": "code",
   "source": "results[\"Naive Bayes\"] = accuracy_score(y_test, preds)",
   "outputs": [],
   "execution_count": 56
  },
  {
   "metadata": {
    "ExecuteTime": {
     "end_time": "2025-06-11T09:11:25.406065Z",
     "start_time": "2025-06-11T09:11:25.400490Z"
    }
   },
   "cell_type": "code",
   "source": "nb_test = accuracy_score(y_test, preds)",
   "outputs": [],
   "execution_count": 57
  },
  {
   "metadata": {
    "ExecuteTime": {
     "end_time": "2025-06-11T09:11:25.439650Z",
     "start_time": "2025-06-11T09:11:25.416612Z"
    }
   },
   "cell_type": "code",
   "source": "print(classification_report(y_test, preds))",
   "outputs": [
    {
     "name": "stdout",
     "output_type": "stream",
     "text": [
      "              precision    recall  f1-score   support\n",
      "\n",
      "           0       0.92      0.90      0.91        63\n",
      "           1       0.94      0.95      0.95       108\n",
      "\n",
      "    accuracy                           0.94       171\n",
      "   macro avg       0.93      0.93      0.93       171\n",
      "weighted avg       0.94      0.94      0.94       171\n",
      "\n"
     ]
    }
   ],
   "execution_count": 58
  },
  {
   "metadata": {
    "ExecuteTime": {
     "end_time": "2025-06-11T09:11:25.468882Z",
     "start_time": "2025-06-11T09:11:25.448199Z"
    }
   },
   "cell_type": "code",
   "source": "print(confusion_matrix(y_test, preds))",
   "outputs": [
    {
     "name": "stdout",
     "output_type": "stream",
     "text": [
      "[[ 57   6]\n",
      " [  5 103]]\n"
     ]
    }
   ],
   "execution_count": 59
  },
  {
   "metadata": {
    "ExecuteTime": {
     "end_time": "2025-06-11T09:11:25.702551Z",
     "start_time": "2025-06-11T09:11:25.495540Z"
    }
   },
   "cell_type": "code",
   "source": [
    "ConfusionMatrixDisplay(confusion_matrix(y_test, preds), display_labels = data.target_names).plot()\n",
    "plt.xlabel(\"Predicted Values\")\n",
    "plt.ylabel(\"Actual Values\")\n",
    "plt.title(\"Confusion Matrix\")\n",
    "plt.show()"
   ],
   "outputs": [
    {
     "data": {
      "text/plain": [
       "<Figure size 640x480 with 2 Axes>"
      ],
      "image/png": "[encoded data removed]"
     },
     "metadata": {},
     "output_type": "display_data"
    }
   ],
   "execution_count": 60
  },
  {
   "metadata": {
    "ExecuteTime": {
     "end_time": "2025-06-11T09:11:25.732214Z",
     "start_time": "2025-06-11T09:11:25.723773Z"
    }
   },
   "cell_type": "code",
   "source": "print(f\"Naive Bayes | Train Accuracy: {nb_train * 100:.2f}% | Test Accuracy: {nb_test * 100:.2f}% | CV scores: {nb_cv_scores * 100:.2f}%\")",
   "outputs": [
    {
     "name": "stdout",
     "output_type": "stream",
     "text": [
      "Naive Bayes | Train Accuracy: 94.22% | Test Accuracy: 93.57% | CV scores: 93.22%\n"
     ]
    }
   ],
   "execution_count": 61
  },
  {
   "metadata": {},
   "cell_type": "markdown",
   "source": "- Gradient Boosting"
  },
  {
   "metadata": {
    "ExecuteTime": {
     "end_time": "2025-06-11T09:11:25.774629Z",
     "start_time": "2025-06-11T09:11:25.755848Z"
    }
   },
   "cell_type": "code",
   "source": [
    "# Gradient Boosting\n",
    "from sklearn.ensemble import GradientBoostingClassifier\n",
    "\n",
    "def train_gradient_boosting(X_train, y_train, X_test, cv = 5):\n",
    "    # Initialize model\n",
    "    gb_model = GradientBoostingClassifier()\n",
    "\n",
    "    # Fit model\n",
    "    gb_model.fit(X_train, y_train)\n",
    "\n",
    "    # Training score\n",
    "    train_score = gb_model.score(X_train, y_train)\n",
    "\n",
    "    # Cross-Validation score (mean)\n",
    "    cv_scores = cross_val_score(gb_model, X_train, y_train, cv = cv).mean()\n",
    "\n",
    "    # Make predictions on test set\n",
    "    predictions = gb_model.predict(X_test)\n",
    "\n",
    "    return train_score, predictions, cv_scores"
   ],
   "outputs": [],
   "execution_count": 62
  },
  {
   "metadata": {
    "ExecuteTime": {
     "end_time": "2025-06-11T09:11:28.782902Z",
     "start_time": "2025-06-11T09:11:25.787179Z"
    }
   },
   "cell_type": "code",
   "source": "gb_train, preds, gb_cv_scores = train_gradient_boosting(X_train, y_train, X_test)",
   "outputs": [],
   "execution_count": 63
  },
  {
   "metadata": {
    "ExecuteTime": {
     "end_time": "2025-06-11T09:11:28.798225Z",
     "start_time": "2025-06-11T09:11:28.784413Z"
    }
   },
   "cell_type": "code",
   "source": "results[\"Gradient Boosting\"] = accuracy_score(y_test, preds)",
   "outputs": [],
   "execution_count": 64
  },
  {
   "metadata": {
    "ExecuteTime": {
     "end_time": "2025-06-11T09:11:28.816509Z",
     "start_time": "2025-06-11T09:11:28.800267Z"
    }
   },
   "cell_type": "code",
   "source": "gb_test = accuracy_score(y_test, preds)",
   "outputs": [],
   "execution_count": 65
  },
  {
   "metadata": {
    "ExecuteTime": {
     "end_time": "2025-06-11T09:11:28.847282Z",
     "start_time": "2025-06-11T09:11:28.832064Z"
    }
   },
   "cell_type": "code",
   "source": "print(classification_report(y_test, preds))",
   "outputs": [
    {
     "name": "stdout",
     "output_type": "stream",
     "text": [
      "              precision    recall  f1-score   support\n",
      "\n",
      "           0       0.95      0.94      0.94        63\n",
      "           1       0.96      0.97      0.97       108\n",
      "\n",
      "    accuracy                           0.96       171\n",
      "   macro avg       0.96      0.95      0.96       171\n",
      "weighted avg       0.96      0.96      0.96       171\n",
      "\n"
     ]
    }
   ],
   "execution_count": 66
  },
  {
   "metadata": {
    "ExecuteTime": {
     "end_time": "2025-06-11T09:11:28.906257Z",
     "start_time": "2025-06-11T09:11:28.879051Z"
    }
   },
   "cell_type": "code",
   "source": "print(classification_report(y_test, preds))",
   "outputs": [
    {
     "name": "stdout",
     "output_type": "stream",
     "text": [
      "              precision    recall  f1-score   support\n",
      "\n",
      "           0       0.95      0.94      0.94        63\n",
      "           1       0.96      0.97      0.97       108\n",
      "\n",
      "    accuracy                           0.96       171\n",
      "   macro avg       0.96      0.95      0.96       171\n",
      "weighted avg       0.96      0.96      0.96       171\n",
      "\n"
     ]
    }
   ],
   "execution_count": 67
  },
  {
   "metadata": {
    "ExecuteTime": {
     "end_time": "2025-06-11T09:11:29.089893Z",
     "start_time": "2025-06-11T09:11:28.910767Z"
    }
   },
   "cell_type": "code",
   "source": [
    "ConfusionMatrixDisplay(confusion_matrix(y_test, preds), display_labels = data.target_names).plot()\n",
    "plt.xlabel(\"Predicted Values\")\n",
    "plt.ylabel(\"Actual Values\")\n",
    "plt.title(\"Confusion Matrix\")\n",
    "plt.show()"
   ],
   "outputs": [
    {
     "data": {
      "text/plain": [
       "<Figure size 640x480 with 2 Axes>"
      ],
      "image/png": "[encoded data removed]"
     },
     "metadata": {},
     "output_type": "display_data"
    }
   ],
   "execution_count": 68
  },
  {
   "metadata": {
    "ExecuteTime": {
     "end_time": "2025-06-11T09:11:29.123990Z",
     "start_time": "2025-06-11T09:11:29.115617Z"
    }
   },
   "cell_type": "code",
   "source": "print(f\"Gradient Boosting | Train Accuracy: {gb_train * 100:.2f}% | Test Accuracy: {gb_test * 100:.2f}% | CV scores: {gb_cv_scores * 100:.2f}%\")",
   "outputs": [
    {
     "name": "stdout",
     "output_type": "stream",
     "text": [
      "Gradient Boosting | Train Accuracy: 100.00% | Test Accuracy: 95.91% | CV scores: 95.48%\n"
     ]
    }
   ],
   "execution_count": 69
  },
  {
   "cell_type": "code",
   "metadata": {
    "ExecuteTime": {
     "end_time": "2025-06-11T09:11:29.207689Z",
     "start_time": "2025-06-11T09:11:29.187112Z"
    }
   },
   "source": [
    "results"
   ],
   "outputs": [
    {
     "data": {
      "text/plain": [
       "{'Logistic Regression': 0.9824561403508771,\n",
       " 'Decision Tree': 0.9473684210526315,\n",
       " 'Random Forest': 0.9649122807017544,\n",
       " 'K Nearest Neighbours': 0.9590643274853801,\n",
       " 'Support Vector Machine': 0.9707602339181286,\n",
       " 'Naive Bayes': 0.935672514619883,\n",
       " 'Gradient Boosting': 0.9590643274853801}"
      ]
     },
     "execution_count": 70,
     "metadata": {},
     "output_type": "execute_result"
    }
   ],
   "execution_count": 70
  },
  {
   "metadata": {
    "ExecuteTime": {
     "end_time": "2025-06-11T09:11:29.240067Z",
     "start_time": "2025-06-11T09:11:29.234418Z"
    }
   },
   "cell_type": "code",
   "source": "results = dict(sorted(results.items(), key = lambda item: item[1]))",
   "outputs": [],
   "execution_count": 71
  },
  {
   "cell_type": "code",
   "metadata": {
    "ExecuteTime": {
     "end_time": "2025-06-11T09:11:29.268398Z",
     "start_time": "2025-06-11T09:11:29.250193Z"
    }
   },
   "source": [
    "results"
   ],
   "outputs": [
    {
     "data": {
      "text/plain": [
       "{'Naive Bayes': 0.935672514619883,\n",
       " 'Decision Tree': 0.9473684210526315,\n",
       " 'K Nearest Neighbours': 0.9590643274853801,\n",
       " 'Gradient Boosting': 0.9590643274853801,\n",
       " 'Random Forest': 0.9649122807017544,\n",
       " 'Support Vector Machine': 0.9707602339181286,\n",
       " 'Logistic Regression': 0.9824561403508771}"
      ]
     },
     "execution_count": 72,
     "metadata": {},
     "output_type": "execute_result"
    }
   ],
   "execution_count": 72
  },
  {
   "cell_type": "code",
   "metadata": {
    "ExecuteTime": {
     "end_time": "2025-06-11T09:11:29.329527Z",
     "start_time": "2025-06-11T09:11:29.313206Z"
    }
   },
   "source": [
    "for model_name, score in results.items():\n",
    "    print(f\"{model_name} : {score * 100:.2f}%\")"
   ],
   "outputs": [
    {
     "name": "stdout",
     "output_type": "stream",
     "text": [
      "Naive Bayes : 93.57%\n",
      "Decision Tree : 94.74%\n",
      "K Nearest Neighbours : 95.91%\n",
      "Gradient Boosting : 95.91%\n",
      "Random Forest : 96.49%\n",
      "Support Vector Machine : 97.08%\n",
      "Logistic Regression : 98.25%\n"
     ]
    }
   ],
   "execution_count": 73
  },
  {
   "cell_type": "code",
   "metadata": {
    "ExecuteTime": {
     "end_time": "2025-06-11T09:11:29.364586Z",
     "start_time": "2025-06-11T09:11:29.349097Z"
    }
   },
   "source": [],
   "outputs": [],
   "execution_count": null
  }
 ],
 "metadata": {
  "kernelspec": {
   "display_name": "Python 3 (ipykernel)",
   "language": "python",
   "name": "python3"
  },
  "language_info": {
   "codemirror_mode": {
    "name": "ipython",
    "version": 3
   },
   "file_extension": ".py",
   "mimetype": "text/x-python",
   "name": "python",
   "nbconvert_exporter": "python",
   "pygments_lexer": "ipython3",
   "version": "3.13.1"
  }
 },
 "nbformat": 4,
 "nbformat_minor": 4
}
