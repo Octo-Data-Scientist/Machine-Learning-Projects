{
 "cells": [
  {
   "cell_type": "code",
   "execution_count": 15,
   "id": "f8e5d366-b7d4-43ad-8840-148e90829835",
   "metadata": {},
   "outputs": [],
   "source": [
    "# Importing relevant libraries\n",
    "import numpy as np\n",
    "import pandas as pd\n",
    "from sklearn.model_selection import train_test_split\n",
    "from sklearn.metrics import accuracy_score, classification_report"
   ]
  },
  {
   "cell_type": "code",
   "execution_count": 16,
   "id": "9dfd7597-ac20-46b6-aac4-9487018afa6a",
   "metadata": {},
   "outputs": [],
   "source": [
    "# initializing python dataset\n",
    "from sklearn import datasets"
   ]
  },
  {
   "cell_type": "code",
   "execution_count": 17,
   "id": "7e3570fe-352b-419b-ace2-3a11095a66fe",
   "metadata": {},
   "outputs": [
    {
     "data": {
      "text/plain": [
       "['__all__',\n",
       " '__builtins__',\n",
       " '__cached__',\n",
       " '__doc__',\n",
       " '__file__',\n",
       " '__getattr__',\n",
       " '__loader__',\n",
       " '__name__',\n",
       " '__package__',\n",
       " '__path__',\n",
       " '__spec__',\n",
       " '_arff_parser',\n",
       " '_base',\n",
       " '_california_housing',\n",
       " '_covtype',\n",
       " '_kddcup99',\n",
       " '_lfw',\n",
       " '_olivetti_faces',\n",
       " '_openml',\n",
       " '_rcv1',\n",
       " '_samples_generator',\n",
       " '_species_distributions',\n",
       " '_svmlight_format_fast',\n",
       " '_svmlight_format_io',\n",
       " '_twenty_newsgroups',\n",
       " 'clear_data_home',\n",
       " 'data',\n",
       " 'descr',\n",
       " 'dump_svmlight_file',\n",
       " 'fetch_20newsgroups',\n",
       " 'fetch_20newsgroups_vectorized',\n",
       " 'fetch_california_housing',\n",
       " 'fetch_covtype',\n",
       " 'fetch_kddcup99',\n",
       " 'fetch_lfw_pairs',\n",
       " 'fetch_lfw_people',\n",
       " 'fetch_olivetti_faces',\n",
       " 'fetch_openml',\n",
       " 'fetch_rcv1',\n",
       " 'fetch_species_distributions',\n",
       " 'get_data_home',\n",
       " 'load_breast_cancer',\n",
       " 'load_diabetes',\n",
       " 'load_digits',\n",
       " 'load_files',\n",
       " 'load_iris',\n",
       " 'load_linnerud',\n",
       " 'load_sample_image',\n",
       " 'load_sample_images',\n",
       " 'load_svmlight_file',\n",
       " 'load_svmlight_files',\n",
       " 'load_wine',\n",
       " 'make_biclusters',\n",
       " 'make_blobs',\n",
       " 'make_checkerboard',\n",
       " 'make_circles',\n",
       " 'make_classification',\n",
       " 'make_friedman1',\n",
       " 'make_friedman2',\n",
       " 'make_friedman3',\n",
       " 'make_gaussian_quantiles',\n",
       " 'make_hastie_10_2',\n",
       " 'make_low_rank_matrix',\n",
       " 'make_moons',\n",
       " 'make_multilabel_classification',\n",
       " 'make_regression',\n",
       " 'make_s_curve',\n",
       " 'make_sparse_coded_signal',\n",
       " 'make_sparse_spd_matrix',\n",
       " 'make_sparse_uncorrelated',\n",
       " 'make_spd_matrix',\n",
       " 'make_swiss_roll',\n",
       " 'textwrap']"
      ]
     },
     "execution_count": 17,
     "metadata": {},
     "output_type": "execute_result"
    }
   ],
   "source": [
    "dir(datasets)"
   ]
  },
  {
   "cell_type": "code",
   "execution_count": 18,
   "id": "f6d41caf-f444-458b-8d36-e6b90ef70dc6",
   "metadata": {},
   "outputs": [],
   "source": [
    "# loading the wine dataset\n",
    "data = datasets.load_wine()"
   ]
  },
  {
   "cell_type": "code",
   "execution_count": 19,
   "id": "3145d93d-479d-41b1-84fd-f82f9704cdbd",
   "metadata": {},
   "outputs": [
    {
     "data": {
      "text/plain": [
       "{'data': array([[1.423e+01, 1.710e+00, 2.430e+00, ..., 1.040e+00, 3.920e+00,\n",
       "         1.065e+03],\n",
       "        [1.320e+01, 1.780e+00, 2.140e+00, ..., 1.050e+00, 3.400e+00,\n",
       "         1.050e+03],\n",
       "        [1.316e+01, 2.360e+00, 2.670e+00, ..., 1.030e+00, 3.170e+00,\n",
       "         1.185e+03],\n",
       "        ...,\n",
       "        [1.327e+01, 4.280e+00, 2.260e+00, ..., 5.900e-01, 1.560e+00,\n",
       "         8.350e+02],\n",
       "        [1.317e+01, 2.590e+00, 2.370e+00, ..., 6.000e-01, 1.620e+00,\n",
       "         8.400e+02],\n",
       "        [1.413e+01, 4.100e+00, 2.740e+00, ..., 6.100e-01, 1.600e+00,\n",
       "         5.600e+02]]),\n",
       " 'target': array([0, 0, 0, 0, 0, 0, 0, 0, 0, 0, 0, 0, 0, 0, 0, 0, 0, 0, 0, 0, 0, 0,\n",
       "        0, 0, 0, 0, 0, 0, 0, 0, 0, 0, 0, 0, 0, 0, 0, 0, 0, 0, 0, 0, 0, 0,\n",
       "        0, 0, 0, 0, 0, 0, 0, 0, 0, 0, 0, 0, 0, 0, 0, 1, 1, 1, 1, 1, 1, 1,\n",
       "        1, 1, 1, 1, 1, 1, 1, 1, 1, 1, 1, 1, 1, 1, 1, 1, 1, 1, 1, 1, 1, 1,\n",
       "        1, 1, 1, 1, 1, 1, 1, 1, 1, 1, 1, 1, 1, 1, 1, 1, 1, 1, 1, 1, 1, 1,\n",
       "        1, 1, 1, 1, 1, 1, 1, 1, 1, 1, 1, 1, 1, 1, 1, 1, 1, 1, 1, 1, 2, 2,\n",
       "        2, 2, 2, 2, 2, 2, 2, 2, 2, 2, 2, 2, 2, 2, 2, 2, 2, 2, 2, 2, 2, 2,\n",
       "        2, 2, 2, 2, 2, 2, 2, 2, 2, 2, 2, 2, 2, 2, 2, 2, 2, 2, 2, 2, 2, 2,\n",
       "        2, 2]),\n",
       " 'frame': None,\n",
       " 'target_names': array(['class_0', 'class_1', 'class_2'], dtype='<U7'),\n",
       " 'DESCR': '.. _wine_dataset:\\n\\nWine recognition dataset\\n------------------------\\n\\n**Data Set Characteristics:**\\n\\n:Number of Instances: 178\\n:Number of Attributes: 13 numeric, predictive attributes and the class\\n:Attribute Information:\\n    - Alcohol\\n    - Malic acid\\n    - Ash\\n    - Alcalinity of ash\\n    - Magnesium\\n    - Total phenols\\n    - Flavanoids\\n    - Nonflavanoid phenols\\n    - Proanthocyanins\\n    - Color intensity\\n    - Hue\\n    - OD280/OD315 of diluted wines\\n    - Proline\\n    - class:\\n        - class_0\\n        - class_1\\n        - class_2\\n\\n:Summary Statistics:\\n\\n============================= ==== ===== ======= =====\\n                                Min   Max   Mean     SD\\n============================= ==== ===== ======= =====\\nAlcohol:                      11.0  14.8    13.0   0.8\\nMalic Acid:                   0.74  5.80    2.34  1.12\\nAsh:                          1.36  3.23    2.36  0.27\\nAlcalinity of Ash:            10.6  30.0    19.5   3.3\\nMagnesium:                    70.0 162.0    99.7  14.3\\nTotal Phenols:                0.98  3.88    2.29  0.63\\nFlavanoids:                   0.34  5.08    2.03  1.00\\nNonflavanoid Phenols:         0.13  0.66    0.36  0.12\\nProanthocyanins:              0.41  3.58    1.59  0.57\\nColour Intensity:              1.3  13.0     5.1   2.3\\nHue:                          0.48  1.71    0.96  0.23\\nOD280/OD315 of diluted wines: 1.27  4.00    2.61  0.71\\nProline:                       278  1680     746   315\\n============================= ==== ===== ======= =====\\n\\n:Missing Attribute Values: None\\n:Class Distribution: class_0 (59), class_1 (71), class_2 (48)\\n:Creator: R.A. Fisher\\n:Donor: Michael Marshall (MARSHALL%PLU@io.arc.nasa.gov)\\n:Date: July, 1988\\n\\nThis is a copy of UCI ML Wine recognition datasets.\\nhttps://archive.ics.uci.edu/ml/machine-learning-databases/wine/wine.data\\n\\nThe data is the results of a chemical analysis of wines grown in the same\\nregion in Italy by three different cultivators. There are thirteen different\\nmeasurements taken for different constituents found in the three types of\\nwine.\\n\\nOriginal Owners:\\n\\nForina, M. et al, PARVUS -\\nAn Extendible Package for Data Exploration, Classification and Correlation.\\nInstitute of Pharmaceutical and Food Analysis and Technologies,\\nVia Brigata Salerno, 16147 Genoa, Italy.\\n\\nCitation:\\n\\nLichman, M. (2013). UCI Machine Learning Repository\\n[https://archive.ics.uci.edu/ml]. Irvine, CA: University of California,\\nSchool of Information and Computer Science.\\n\\n.. dropdown:: References\\n\\n    (1) S. Aeberhard, D. Coomans and O. de Vel,\\n    Comparison of Classifiers in High Dimensional Settings,\\n    Tech. Rep. no. 92-02, (1992), Dept. of Computer Science and Dept. of\\n    Mathematics and Statistics, James Cook University of North Queensland.\\n    (Also submitted to Technometrics).\\n\\n    The data was used with many others for comparing various\\n    classifiers. The classes are separable, though only RDA\\n    has achieved 100% correct classification.\\n    (RDA : 100%, QDA 99.4%, LDA 98.9%, 1NN 96.1% (z-transformed data))\\n    (All results using the leave-one-out technique)\\n\\n    (2) S. Aeberhard, D. Coomans and O. de Vel,\\n    \"THE CLASSIFICATION PERFORMANCE OF RDA\"\\n    Tech. Rep. no. 92-01, (1992), Dept. of Computer Science and Dept. of\\n    Mathematics and Statistics, James Cook University of North Queensland.\\n    (Also submitted to Journal of Chemometrics).\\n',\n",
       " 'feature_names': ['alcohol',\n",
       "  'malic_acid',\n",
       "  'ash',\n",
       "  'alcalinity_of_ash',\n",
       "  'magnesium',\n",
       "  'total_phenols',\n",
       "  'flavanoids',\n",
       "  'nonflavanoid_phenols',\n",
       "  'proanthocyanins',\n",
       "  'color_intensity',\n",
       "  'hue',\n",
       "  'od280/od315_of_diluted_wines',\n",
       "  'proline']}"
      ]
     },
     "execution_count": 19,
     "metadata": {},
     "output_type": "execute_result"
    }
   ],
   "source": [
    "data"
   ]
  },
  {
   "cell_type": "code",
   "execution_count": 20,
   "id": "9d6a13b2-311b-44a8-8ed7-7bf95ad9bd8c",
   "metadata": {},
   "outputs": [],
   "source": [
    "# Feature matrix and Target variables\n",
    "X = data[\"data\"]"
   ]
  },
  {
   "cell_type": "code",
   "execution_count": 21,
   "id": "36f42ecc-a6f8-4696-b6d0-4f2af0943ce8",
   "metadata": {},
   "outputs": [
    {
     "data": {
      "text/plain": [
       "array([[1.423e+01, 1.710e+00, 2.430e+00, ..., 1.040e+00, 3.920e+00,\n",
       "        1.065e+03],\n",
       "       [1.320e+01, 1.780e+00, 2.140e+00, ..., 1.050e+00, 3.400e+00,\n",
       "        1.050e+03],\n",
       "       [1.316e+01, 2.360e+00, 2.670e+00, ..., 1.030e+00, 3.170e+00,\n",
       "        1.185e+03],\n",
       "       ...,\n",
       "       [1.327e+01, 4.280e+00, 2.260e+00, ..., 5.900e-01, 1.560e+00,\n",
       "        8.350e+02],\n",
       "       [1.317e+01, 2.590e+00, 2.370e+00, ..., 6.000e-01, 1.620e+00,\n",
       "        8.400e+02],\n",
       "       [1.413e+01, 4.100e+00, 2.740e+00, ..., 6.100e-01, 1.600e+00,\n",
       "        5.600e+02]])"
      ]
     },
     "execution_count": 21,
     "metadata": {},
     "output_type": "execute_result"
    }
   ],
   "source": [
    "X"
   ]
  },
  {
   "cell_type": "code",
   "execution_count": 22,
   "id": "52dcf944-ecef-40dd-9ed5-8865887fdcef",
   "metadata": {},
   "outputs": [],
   "source": [
    "y = data[\"target\"]"
   ]
  },
  {
   "cell_type": "code",
   "execution_count": 23,
   "id": "aebc6050-c446-4aca-b741-d0316dd57ceb",
   "metadata": {},
   "outputs": [
    {
     "data": {
      "text/plain": [
       "array([0, 0, 0, 0, 0, 0, 0, 0, 0, 0, 0, 0, 0, 0, 0, 0, 0, 0, 0, 0, 0, 0,\n",
       "       0, 0, 0, 0, 0, 0, 0, 0, 0, 0, 0, 0, 0, 0, 0, 0, 0, 0, 0, 0, 0, 0,\n",
       "       0, 0, 0, 0, 0, 0, 0, 0, 0, 0, 0, 0, 0, 0, 0, 1, 1, 1, 1, 1, 1, 1,\n",
       "       1, 1, 1, 1, 1, 1, 1, 1, 1, 1, 1, 1, 1, 1, 1, 1, 1, 1, 1, 1, 1, 1,\n",
       "       1, 1, 1, 1, 1, 1, 1, 1, 1, 1, 1, 1, 1, 1, 1, 1, 1, 1, 1, 1, 1, 1,\n",
       "       1, 1, 1, 1, 1, 1, 1, 1, 1, 1, 1, 1, 1, 1, 1, 1, 1, 1, 1, 1, 2, 2,\n",
       "       2, 2, 2, 2, 2, 2, 2, 2, 2, 2, 2, 2, 2, 2, 2, 2, 2, 2, 2, 2, 2, 2,\n",
       "       2, 2, 2, 2, 2, 2, 2, 2, 2, 2, 2, 2, 2, 2, 2, 2, 2, 2, 2, 2, 2, 2,\n",
       "       2, 2])"
      ]
     },
     "execution_count": 23,
     "metadata": {},
     "output_type": "execute_result"
    }
   ],
   "source": [
    "y"
   ]
  },
  {
   "cell_type": "code",
   "execution_count": 24,
   "id": "6a20c8d9-c4de-47d1-913b-a60e9eab834e",
   "metadata": {},
   "outputs": [],
   "source": [
    "# splitting into train and test\n",
    "X_train, X_test, y_train, y_test = train_test_split(X, y, test_size = 0.25, random_state = 1)"
   ]
  },
  {
   "cell_type": "code",
   "execution_count": 25,
   "id": "c1aec9db-8cf8-4641-894f-6e68d5aa4366",
   "metadata": {},
   "outputs": [],
   "source": [
    "# Initializing a dictionary\n",
    "results = {}"
   ]
  },
  {
   "cell_type": "code",
   "execution_count": 26,
   "id": "9b2d53aa-2563-498e-a413-af91dbdf451e",
   "metadata": {},
   "outputs": [],
   "source": [
    "# Logistic Regression\n",
    "def LogisticRegression(X_train, y_train, X_test):\n",
    "    from sklearn.linear_model import LogisticRegression\n",
    "    lr_model = LogisticRegression(max_iter = 10000)\n",
    "\n",
    "    # fitting the model\n",
    "    lr_model = lr_model.fit(X_train, y_train)\n",
    "    \n",
    "    # make predictions\n",
    "    predictions = lr_model.predict(X_test)\n",
    "    return predictions"
   ]
  },
  {
   "cell_type": "code",
   "execution_count": 27,
   "id": "5078db04-51fd-421a-a97d-86f413f4e6e8",
   "metadata": {},
   "outputs": [],
   "source": [
    "results[\"Logistics Regression\"] = accuracy_score(y_test, LogisticRegression(X_train, y_train, X_test))"
   ]
  },
  {
   "cell_type": "code",
   "execution_count": 28,
   "id": "be77345a-5616-4f39-b461-d19f45e19139",
   "metadata": {},
   "outputs": [
    {
     "name": "stdout",
     "output_type": "stream",
     "text": [
      "              precision    recall  f1-score   support\n",
      "\n",
      "           0       0.95      1.00      0.97        18\n",
      "           1       0.94      0.94      0.94        17\n",
      "           2       1.00      0.90      0.95        10\n",
      "\n",
      "    accuracy                           0.96        45\n",
      "   macro avg       0.96      0.95      0.95        45\n",
      "weighted avg       0.96      0.96      0.96        45\n",
      "\n"
     ]
    }
   ],
   "source": [
    "print(classification_report(y_test, LogisticRegression(X_train, y_train, X_test)))"
   ]
  },
  {
   "cell_type": "code",
   "execution_count": 66,
   "id": "0df76fd5-b889-4080-b99f-2696b6b5470c",
   "metadata": {},
   "outputs": [],
   "source": [
    "# K Nearest Neighbor\n",
    "def KNN(X_train, y_train, X_test):\n",
    "    from sklearn.neighbors import KNeighborsClassifier\n",
    "    knn_model = KNeighborsClassifier(n_neighbors = 1, leaf_size = 30, weights = \"distance\")\n",
    "    # fitting the model\n",
    "    knn_model = knn_model.fit(X_train, y_train)\n",
    "    # make predictions\n",
    "    predictions = knn_model.predict(X_test)\n",
    "    return predictions"
   ]
  },
  {
   "cell_type": "code",
   "execution_count": 67,
   "id": "db65201d-bdb2-4b20-9f8f-7fe3a2ad9a77",
   "metadata": {},
   "outputs": [],
   "source": [
    "results[\"K Nearest Neighbors\"] = accuracy_score(y_test, KNN(X_train, y_train, X_test))"
   ]
  },
  {
   "cell_type": "code",
   "execution_count": 68,
   "id": "a372beea",
   "metadata": {},
   "outputs": [
    {
     "name": "stdout",
     "output_type": "stream",
     "text": [
      "              precision    recall  f1-score   support\n",
      "\n",
      "           0       0.94      0.83      0.88        18\n",
      "           1       0.62      0.76      0.68        17\n",
      "           2       0.50      0.40      0.44        10\n",
      "\n",
      "    accuracy                           0.71        45\n",
      "   macro avg       0.69      0.67      0.67        45\n",
      "weighted avg       0.72      0.71      0.71        45\n",
      "\n"
     ]
    }
   ],
   "source": [
    "print(classification_report(y_test, KNN(X_train, y_train, X_test)))"
   ]
  },
  {
   "cell_type": "code",
   "execution_count": 32,
   "id": "3d8cc3d7-2ebe-45cb-8b33-63338050ce5a",
   "metadata": {},
   "outputs": [],
   "source": [
    "# Decision Tree\n",
    "def DecisionTree(X_train, y_train, X_test):\n",
    "    from sklearn.tree import DecisionTreeClassifier\n",
    "    dt_model = DecisionTreeClassifier()\n",
    "\n",
    "    # fit the model\n",
    "    dt_model = dt_model.fit(X_train, y_train)\n",
    "    \n",
    "    # make predictions\n",
    "    predictions = dt_model.predict(X_test)\n",
    "    return predictions"
   ]
  },
  {
   "cell_type": "code",
   "execution_count": 33,
   "id": "f30f2397-7114-43d0-a714-18df1a4a3572",
   "metadata": {},
   "outputs": [],
   "source": [
    "results[\"Decision Tree\"] = accuracy_score(y_test, DecisionTree(X_train, y_train, X_test))"
   ]
  },
  {
   "cell_type": "code",
   "execution_count": 34,
   "id": "7192e910",
   "metadata": {},
   "outputs": [
    {
     "name": "stdout",
     "output_type": "stream",
     "text": [
      "              precision    recall  f1-score   support\n",
      "\n",
      "           0       0.95      1.00      0.97        18\n",
      "           1       0.94      0.94      0.94        17\n",
      "           2       1.00      0.90      0.95        10\n",
      "\n",
      "    accuracy                           0.96        45\n",
      "   macro avg       0.96      0.95      0.95        45\n",
      "weighted avg       0.96      0.96      0.96        45\n",
      "\n"
     ]
    }
   ],
   "source": [
    "print(classification_report(y_test, DecisionTree(X_train, y_train, X_test)))"
   ]
  },
  {
   "cell_type": "code",
   "execution_count": 35,
   "id": "3f42e0cf-50e2-4605-84e4-c1d501153cdd",
   "metadata": {},
   "outputs": [],
   "source": [
    "# Random Forest\n",
    "def RandomForest(X_train, y_train, X_test):\n",
    "    from sklearn.ensemble import RandomForestClassifier\n",
    "    rf_model = RandomForestClassifier()\n",
    "    # fit the model\n",
    "    rf_model  = rf_model.fit(X_train, y_train)\n",
    "    # make predictions\n",
    "    predictions = rf_model.predict(X_test)\n",
    "    return predictions"
   ]
  },
  {
   "cell_type": "code",
   "execution_count": 36,
   "id": "88580d30-21c3-4966-8833-8b1eca4b244c",
   "metadata": {},
   "outputs": [],
   "source": [
    "results[\"Random Forest\"] = accuracy_score(y_test, RandomForest(X_train, y_train, X_test))"
   ]
  },
  {
   "cell_type": "code",
   "execution_count": 37,
   "id": "4967a3bd",
   "metadata": {},
   "outputs": [
    {
     "name": "stdout",
     "output_type": "stream",
     "text": [
      "              precision    recall  f1-score   support\n",
      "\n",
      "           0       0.95      1.00      0.97        18\n",
      "           1       1.00      0.94      0.97        17\n",
      "           2       1.00      1.00      1.00        10\n",
      "\n",
      "    accuracy                           0.98        45\n",
      "   macro avg       0.98      0.98      0.98        45\n",
      "weighted avg       0.98      0.98      0.98        45\n",
      "\n"
     ]
    }
   ],
   "source": [
    "print(classification_report(y_test, RandomForest(X_train, y_train, X_test)))"
   ]
  },
  {
   "cell_type": "code",
   "execution_count": 38,
   "id": "fd28cb8c-6837-463e-97eb-47663ad737fb",
   "metadata": {},
   "outputs": [],
   "source": [
    "# Gradient Boosting\n",
    "def GradientBoosting(X_train, y_train, X_test):\n",
    "    from sklearn.ensemble import GradientBoostingClassifier\n",
    "    gb_model = GradientBoostingClassifier()\n",
    "    # fit the model\n",
    "    gb_model = gb_model.fit(X_train, y_train)\n",
    "    # make predictions\n",
    "    predictions = gb_model.predict(X_test)\n",
    "    return predictions"
   ]
  },
  {
   "cell_type": "code",
   "execution_count": 39,
   "id": "693f966a-c124-4d20-a72e-d90bf9961ba3",
   "metadata": {},
   "outputs": [],
   "source": [
    "results[\"Gradient Boosting\"] = accuracy_score(y_test, GradientBoosting(X_train, y_train, X_test)) "
   ]
  },
  {
   "cell_type": "code",
   "execution_count": 40,
   "id": "367b3501",
   "metadata": {},
   "outputs": [
    {
     "name": "stdout",
     "output_type": "stream",
     "text": [
      "              precision    recall  f1-score   support\n",
      "\n",
      "           0       0.90      1.00      0.95        18\n",
      "           1       1.00      0.88      0.94        17\n",
      "           2       1.00      1.00      1.00        10\n",
      "\n",
      "    accuracy                           0.96        45\n",
      "   macro avg       0.97      0.96      0.96        45\n",
      "weighted avg       0.96      0.96      0.96        45\n",
      "\n"
     ]
    }
   ],
   "source": [
    "print(classification_report(y_test, GradientBoosting(X_train, y_train, X_test)))"
   ]
  },
  {
   "cell_type": "code",
   "execution_count": 99,
   "id": "8e24dc1f-204c-4ef5-b238-8c47c8fd63a7",
   "metadata": {},
   "outputs": [],
   "source": [
    "# Support Vector Machine\n",
    "def SVM(X_train, y_train, X_test):\n",
    "    from sklearn.svm import SVC\n",
    "    svm_model = SVC(max_iter = 10000)\n",
    "    # fit the model\n",
    "    svm_model = svm_model.fit(X_train, y_train)\n",
    "    # make predictions\n",
    "    predictions  = svm_model.predict(X_test)\n",
    "    return predictions"
   ]
  },
  {
   "cell_type": "code",
   "execution_count": 100,
   "id": "2e691993-aa98-45a2-852e-ca31987db832",
   "metadata": {},
   "outputs": [],
   "source": [
    "results[\"Support Vector Machines\"] = accuracy_score(y_test, SVM(X_train, y_train, X_test))"
   ]
  },
  {
   "cell_type": "code",
   "execution_count": 101,
   "id": "e50919d7",
   "metadata": {},
   "outputs": [
    {
     "name": "stdout",
     "output_type": "stream",
     "text": [
      "              precision    recall  f1-score   support\n",
      "\n",
      "           0       0.93      0.78      0.85        18\n",
      "           1       0.61      0.82      0.70        17\n",
      "           2       0.14      0.10      0.12        10\n",
      "\n",
      "    accuracy                           0.64        45\n",
      "   macro avg       0.56      0.57      0.56        45\n",
      "weighted avg       0.64      0.64      0.63        45\n",
      "\n"
     ]
    }
   ],
   "source": [
    "print(classification_report(y_test, SVM(X_train, y_train, X_test)))"
   ]
  },
  {
   "cell_type": "code",
   "execution_count": 44,
   "id": "05446615-b350-4cb6-95d3-9d72f7c04e67",
   "metadata": {},
   "outputs": [],
   "source": [
    "# Naive Bayes\n",
    "def NaiveBayes(X_train, y_train, X_test):\n",
    "    from sklearn.naive_bayes import GaussianNB\n",
    "    nb_model = GaussianNB()\n",
    "    # fit the model\n",
    "    nb_model = nb_model.fit(X_train, y_train)\n",
    "    # make predictions\n",
    "    predictions = nb_model.predict(X_test)\n",
    "    return predictions"
   ]
  },
  {
   "cell_type": "code",
   "execution_count": 45,
   "id": "0e1e043a-a4dc-47c7-9747-60d18655ec83",
   "metadata": {},
   "outputs": [],
   "source": [
    "results[\"Naive Bayes\"] = accuracy_score(y_test, NaiveBayes(X_train, y_train, X_test))"
   ]
  },
  {
   "cell_type": "code",
   "execution_count": 46,
   "id": "5c4643fb",
   "metadata": {},
   "outputs": [
    {
     "name": "stdout",
     "output_type": "stream",
     "text": [
      "              precision    recall  f1-score   support\n",
      "\n",
      "           0       1.00      1.00      1.00        18\n",
      "           1       1.00      1.00      1.00        17\n",
      "           2       1.00      1.00      1.00        10\n",
      "\n",
      "    accuracy                           1.00        45\n",
      "   macro avg       1.00      1.00      1.00        45\n",
      "weighted avg       1.00      1.00      1.00        45\n",
      "\n"
     ]
    }
   ],
   "source": [
    "print(classification_report(y_test, NaiveBayes(X_train, y_train, X_test)))"
   ]
  },
  {
   "cell_type": "code",
   "execution_count": 69,
   "id": "7b89c13c-55b3-463c-b428-8dc090a55e28",
   "metadata": {},
   "outputs": [
    {
     "data": {
      "text/plain": [
       "{'Naive Bayes': 1.0,\n",
       " 'Random Forest': 0.9777777777777777,\n",
       " 'Logistics Regression': 0.9555555555555556,\n",
       " 'Decision Tree': 0.9555555555555556,\n",
       " 'Gradient Boosting': 0.9555555555555556,\n",
       " 'K Nearest Neighbors': 0.7111111111111111,\n",
       " 'Support Vector Machines': 0.6444444444444445}"
      ]
     },
     "execution_count": 69,
     "metadata": {},
     "output_type": "execute_result"
    }
   ],
   "source": [
    "results"
   ]
  },
  {
   "cell_type": "code",
   "execution_count": 70,
   "id": "091553eb-51ce-4061-8a4b-e021b9f912b2",
   "metadata": {},
   "outputs": [],
   "source": [
    "results = dict(sorted(results.items(), key = lambda item: item[1], reverse = True))"
   ]
  },
  {
   "cell_type": "code",
   "execution_count": 71,
   "id": "00858788-94b7-4b05-ab4f-55d580fce59d",
   "metadata": {},
   "outputs": [
    {
     "data": {
      "text/plain": [
       "{'Naive Bayes': 1.0,\n",
       " 'Random Forest': 0.9777777777777777,\n",
       " 'Logistics Regression': 0.9555555555555556,\n",
       " 'Decision Tree': 0.9555555555555556,\n",
       " 'Gradient Boosting': 0.9555555555555556,\n",
       " 'K Nearest Neighbors': 0.7111111111111111,\n",
       " 'Support Vector Machines': 0.6444444444444445}"
      ]
     },
     "execution_count": 71,
     "metadata": {},
     "output_type": "execute_result"
    }
   ],
   "source": [
    "results"
   ]
  },
  {
   "cell_type": "code",
   "execution_count": 72,
   "id": "ad1854cb-0bdc-4722-bb0b-2926759d2a8d",
   "metadata": {},
   "outputs": [
    {
     "name": "stdout",
     "output_type": "stream",
     "text": [
      "Naive Bayes :  100%\n",
      "Random Forest :  98%\n",
      "Logistics Regression :  96%\n",
      "Decision Tree :  96%\n",
      "Gradient Boosting :  96%\n",
      "K Nearest Neighbors :  71%\n",
      "Support Vector Machines :  64%\n"
     ]
    }
   ],
   "source": [
    "for model_name, score in results.items():\n",
    "    print(f\"{model_name} : {score * 100: .0f}%\")"
   ]
  },
  {
   "cell_type": "code",
   "execution_count": null,
   "id": "e6a6d2f4-5401-4ee3-b665-fc7e4489f0f7",
   "metadata": {},
   "outputs": [],
   "source": []
  }
 ],
 "metadata": {
  "kernelspec": {
   "display_name": "Python 3",
   "language": "python",
   "name": "python3"
  },
  "language_info": {
   "codemirror_mode": {
    "name": "ipython",
    "version": 3
   },
   "file_extension": ".py",
   "mimetype": "text/x-python",
   "name": "python",
   "nbconvert_exporter": "python",
   "pygments_lexer": "ipython3",
   "version": "3.13.0"
  }
 },
 "nbformat": 4,
 "nbformat_minor": 5
}
